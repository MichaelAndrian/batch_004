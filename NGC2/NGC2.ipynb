{
 "cells": [
  {
   "cell_type": "markdown",
   "id": "9bb26c58",
   "metadata": {},
   "source": [
    "Buatlah sebuah function yang dapat mengkonversi suhu dari kelvin ke celcius, dan celcius ke kelvin.\n",
    "\n",
    "▪Buatlah sebuah function yang dapat mengkonversi suhu ke fahrenheit. Tambahkan parameter untuk memastikan bahwa argumen yang dimasukan adalah celcius atau kelvin. Panggil function yang pertama jika diperlukan.\n",
    "\n",
    "▪Buatlah sebuah function yang dapat mengkonversi suhu dari fahrenheit. Berikan argumen untuk memastikan bahwa outputnya dalah celcius atau kelvin.\n",
    "\n",
    "▪Berikan dokumentasi pada setiap baris kode yang kalian tulis.\n"
   ]
  },
  {
   "cell_type": "code",
   "execution_count": 1,
   "id": "e822652b",
   "metadata": {},
   "outputs": [],
   "source": [
    "def kelvin_to_celcius(value):\n",
    "    celcius = value - 273.15\n",
    "    return celcius\n",
    "    "
   ]
  },
  {
   "cell_type": "code",
   "execution_count": 3,
   "id": "8411c139",
   "metadata": {},
   "outputs": [],
   "source": [
    "def celcius_to_kelvin(value):\n",
    "    kelvin = value + 273.15\n",
    "    return kelvin"
   ]
  },
  {
   "cell_type": "code",
   "execution_count": 6,
   "id": "9eb47a2e",
   "metadata": {},
   "outputs": [],
   "source": [
    "def fahrenheit_converter(value,frmt):\n",
    "    if (frmt == 'celcius'):\n",
    "        output = (value * 1.8) + 32\n",
    "        return output\n",
    "    elif (frmt == 'kelvin'):\n",
    "        output = (value * 1.8) - 459.67\n",
    "        return output\n",
    "    else:\n",
    "        print('no format detected')\n",
    "\n",
    "    "
   ]
  },
  {
   "cell_type": "code",
   "execution_count": 8,
   "id": "5f71e455",
   "metadata": {
    "scrolled": true
   },
   "outputs": [
    {
     "data": {
      "text/plain": [
       "-369.67"
      ]
     },
     "execution_count": 8,
     "metadata": {},
     "output_type": "execute_result"
    }
   ],
   "source": [
    "fahrenheit_converter(50,'kelvin')"
   ]
  },
  {
   "cell_type": "code",
   "execution_count": 9,
   "id": "58ebfe94",
   "metadata": {
    "scrolled": true
   },
   "outputs": [
    {
     "data": {
      "text/plain": [
       "122.0"
      ]
     },
     "execution_count": 9,
     "metadata": {},
     "output_type": "execute_result"
    }
   ],
   "source": [
    "fahrenheit_converter(50,'celcius')"
   ]
  },
  {
   "cell_type": "code",
   "execution_count": 10,
   "id": "5eef78e7",
   "metadata": {},
   "outputs": [
    {
     "name": "stdout",
     "output_type": "stream",
     "text": [
      "no format detected\n"
     ]
    }
   ],
   "source": [
    "fahrenheit_converter(50,'test')"
   ]
  }
 ],
 "metadata": {
  "kernelspec": {
   "display_name": "Python 3",
   "language": "python",
   "name": "python3"
  },
  "language_info": {
   "codemirror_mode": {
    "name": "ipython",
    "version": 3
   },
   "file_extension": ".py",
   "mimetype": "text/x-python",
   "name": "python",
   "nbconvert_exporter": "python",
   "pygments_lexer": "ipython3",
   "version": "3.8.5"
  }
 },
 "nbformat": 4,
 "nbformat_minor": 5
}
