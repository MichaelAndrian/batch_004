{
 "cells": [
  {
   "cell_type": "code",
   "execution_count": 1,
   "id": "f6b81fff",
   "metadata": {},
   "outputs": [],
   "source": [
    "import numpy as np"
   ]
  },
  {
   "cell_type": "code",
   "execution_count": 3,
   "id": "1ec46a62",
   "metadata": {},
   "outputs": [],
   "source": [
    "import sympy as sy\n",
    "x = sy.Symbol('x', real = True)"
   ]
  },
  {
   "cell_type": "markdown",
   "id": "e9ac013a",
   "metadata": {},
   "source": [
    "Find Differential of :\n",
    "\n",
    "function_a = x**2 + 2*x + 1\n",
    "\n",
    "function_b = 4*x**3 - 3*x**2 +2*x -1"
   ]
  },
  {
   "cell_type": "code",
   "execution_count": 5,
   "id": "e40212dd",
   "metadata": {},
   "outputs": [],
   "source": [
    "function_a = x**2 + 2*x + 1\n",
    "function_b = 4*x**3 - 3*x**2 +2*x -1"
   ]
  },
  {
   "cell_type": "code",
   "execution_count": 6,
   "id": "41712014",
   "metadata": {},
   "outputs": [
    {
     "data": {
      "text/latex": [
       "$\\displaystyle 2 x + 2$"
      ],
      "text/plain": [
       "2*x + 2"
      ]
     },
     "execution_count": 6,
     "metadata": {},
     "output_type": "execute_result"
    }
   ],
   "source": [
    "function_a.diff(x)"
   ]
  },
  {
   "cell_type": "code",
   "execution_count": 7,
   "id": "fbadbf2c",
   "metadata": {},
   "outputs": [
    {
     "data": {
      "text/latex": [
       "$\\displaystyle 12 x^{2} - 6 x + 2$"
      ],
      "text/plain": [
       "12*x**2 - 6*x + 2"
      ]
     },
     "execution_count": 7,
     "metadata": {},
     "output_type": "execute_result"
    }
   ],
   "source": [
    "function_b.diff(x)"
   ]
  }
 ],
 "metadata": {
  "kernelspec": {
   "display_name": "Python 3",
   "language": "python",
   "name": "python3"
  },
  "language_info": {
   "codemirror_mode": {
    "name": "ipython",
    "version": 3
   },
   "file_extension": ".py",
   "mimetype": "text/x-python",
   "name": "python",
   "nbconvert_exporter": "python",
   "pygments_lexer": "ipython3",
   "version": "3.8.5"
  }
 },
 "nbformat": 4,
 "nbformat_minor": 5
}
