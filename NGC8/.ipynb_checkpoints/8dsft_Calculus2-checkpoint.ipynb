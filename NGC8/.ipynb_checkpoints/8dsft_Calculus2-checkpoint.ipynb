{
 "cells": [
  {
   "cell_type": "code",
   "execution_count": 2,
   "id": "f772e9ef",
   "metadata": {},
   "outputs": [],
   "source": [
    "import numpy as np\n",
    "import sympy as sy"
   ]
  },
  {
   "cell_type": "code",
   "execution_count": 7,
   "id": "9f435a14",
   "metadata": {},
   "outputs": [],
   "source": [
    "d,x=sy.symbols('d,x', real=True)"
   ]
  },
  {
   "cell_type": "code",
   "execution_count": 10,
   "id": "0ebe1a48",
   "metadata": {},
   "outputs": [],
   "source": [
    "function_a = 3*x**2 - 6*x + 3*d*x\n",
    "function_b =  8*x**3 - x**2 + 5*x -1*d*x"
   ]
  },
  {
   "cell_type": "code",
   "execution_count": 11,
   "id": "f3315f02",
   "metadata": {
    "scrolled": true
   },
   "outputs": [
    {
     "data": {
      "text/latex": [
       "$\\displaystyle x^{3} + x^{2} \\left(\\frac{3 d}{2} - 3\\right)$"
      ],
      "text/plain": [
       "x**3 + x**2*(3*d/2 - 3)"
      ]
     },
     "execution_count": 11,
     "metadata": {},
     "output_type": "execute_result"
    }
   ],
   "source": [
    "sy.integrate(function_a,x)"
   ]
  },
  {
   "cell_type": "code",
   "execution_count": 12,
   "id": "7fb1ebf9",
   "metadata": {},
   "outputs": [
    {
     "data": {
      "text/latex": [
       "$\\displaystyle 2 x^{4} - \\frac{x^{3}}{3} + x^{2} \\left(\\frac{5}{2} - \\frac{d}{2}\\right)$"
      ],
      "text/plain": [
       "2*x**4 - x**3/3 + x**2*(5/2 - d/2)"
      ]
     },
     "execution_count": 12,
     "metadata": {},
     "output_type": "execute_result"
    }
   ],
   "source": [
    "sy.integrate(function_b,x)"
   ]
  }
 ],
 "metadata": {
  "kernelspec": {
   "display_name": "Python 3",
   "language": "python",
   "name": "python3"
  },
  "language_info": {
   "codemirror_mode": {
    "name": "ipython",
    "version": 3
   },
   "file_extension": ".py",
   "mimetype": "text/x-python",
   "name": "python",
   "nbconvert_exporter": "python",
   "pygments_lexer": "ipython3",
   "version": "3.8.5"
  }
 },
 "nbformat": 4,
 "nbformat_minor": 5
}
