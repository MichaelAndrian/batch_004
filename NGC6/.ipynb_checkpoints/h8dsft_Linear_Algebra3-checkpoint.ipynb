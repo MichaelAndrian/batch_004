{
 "cells": [
  {
   "cell_type": "code",
   "execution_count": 25,
   "id": "9eb914de",
   "metadata": {},
   "outputs": [],
   "source": [
    "import numpy as np"
   ]
  },
  {
   "cell_type": "code",
   "execution_count": 48,
   "id": "9bfc210c",
   "metadata": {},
   "outputs": [],
   "source": [
    "vector = np.array([[1,-1],\n",
    "                  [6,4]])"
   ]
  },
  {
   "cell_type": "code",
   "execution_count": 49,
   "id": "a21b432e",
   "metadata": {},
   "outputs": [],
   "source": [
    "eigen_vec = np.array([[1],\n",
    "                    [3]])"
   ]
  },
  {
   "cell_type": "code",
   "execution_count": 51,
   "id": "f4dbac5a",
   "metadata": {},
   "outputs": [
    {
     "data": {
      "text/plain": [
       "array([[-2],\n",
       "       [18]])"
      ]
     },
     "execution_count": 51,
     "metadata": {},
     "output_type": "execute_result"
    }
   ],
   "source": [
    "transformed_vector = vector@eigen_vec\n",
    "transformed_vector"
   ]
  },
  {
   "cell_type": "code",
   "execution_count": 52,
   "id": "f79cb896",
   "metadata": {},
   "outputs": [],
   "source": [
    "eigenvalue, eigenvector = np.linalg.eig(vector)"
   ]
  },
  {
   "cell_type": "code",
   "execution_count": 56,
   "id": "3b7fe57d",
   "metadata": {
    "scrolled": false
   },
   "outputs": [
    {
     "name": "stdout",
     "output_type": "stream",
     "text": [
      "[2.5 2.5]\n",
      "[[-0.23145502 -0.23145502]\n",
      " [ 0.9258201   0.9258201 ]]\n"
     ]
    }
   ],
   "source": [
    "print(eigenvalue.real)\n",
    "print(eigenvector.real)"
   ]
  },
  {
   "cell_type": "markdown",
   "id": "b4e01edc",
   "metadata": {},
   "source": [
    "### Answer: No, 1,3 is not the eigen vector ofthe matrix"
   ]
  }
 ],
 "metadata": {
  "kernelspec": {
   "display_name": "Python 3",
   "language": "python",
   "name": "python3"
  },
  "language_info": {
   "codemirror_mode": {
    "name": "ipython",
    "version": 3
   },
   "file_extension": ".py",
   "mimetype": "text/x-python",
   "name": "python",
   "nbconvert_exporter": "python",
   "pygments_lexer": "ipython3",
   "version": "3.8.5"
  }
 },
 "nbformat": 4,
 "nbformat_minor": 5
}
