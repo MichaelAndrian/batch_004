{
 "cells": [
  {
   "cell_type": "code",
   "execution_count": 1,
   "id": "6c3e65c0",
   "metadata": {},
   "outputs": [],
   "source": [
    "import numpy as np"
   ]
  },
  {
   "cell_type": "markdown",
   "id": "5c815e8a",
   "metadata": {},
   "source": [
    "## Variables"
   ]
  },
  {
   "cell_type": "code",
   "execution_count": 10,
   "id": "0aa1798c",
   "metadata": {},
   "outputs": [],
   "source": [
    "A = np.array([17,22,19])\n",
    "B = np.array([10,20,11])\n",
    "C = np.array ([5,12,9])"
   ]
  },
  {
   "cell_type": "markdown",
   "id": "a012f572",
   "metadata": {},
   "source": [
    "# 1. A+B"
   ]
  },
  {
   "cell_type": "code",
   "execution_count": 11,
   "id": "6bfc8848",
   "metadata": {},
   "outputs": [
    {
     "name": "stdout",
     "output_type": "stream",
     "text": [
      "[27 42 30]\n"
     ]
    }
   ],
   "source": [
    "print(A+B)"
   ]
  },
  {
   "cell_type": "markdown",
   "id": "a46ee51e",
   "metadata": {},
   "source": [
    "# 2. B-C"
   ]
  },
  {
   "cell_type": "code",
   "execution_count": 12,
   "id": "ddc077d8",
   "metadata": {},
   "outputs": [
    {
     "name": "stdout",
     "output_type": "stream",
     "text": [
      "[5 8 2]\n"
     ]
    }
   ],
   "source": [
    "print(B-C)"
   ]
  },
  {
   "cell_type": "markdown",
   "id": "afee55b4",
   "metadata": {},
   "source": [
    "# 3. A Dot C"
   ]
  },
  {
   "cell_type": "code",
   "execution_count": 13,
   "id": "d1fd589b",
   "metadata": {},
   "outputs": [
    {
     "name": "stdout",
     "output_type": "stream",
     "text": [
      "520\n"
     ]
    }
   ],
   "source": [
    "print(A.dot(C))"
   ]
  },
  {
   "cell_type": "markdown",
   "id": "a5cdc766",
   "metadata": {},
   "source": [
    "# 4. A x B"
   ]
  },
  {
   "cell_type": "code",
   "execution_count": 14,
   "id": "8e13a594",
   "metadata": {},
   "outputs": [
    {
     "name": "stdout",
     "output_type": "stream",
     "text": [
      "[170 440 209]\n"
     ]
    }
   ],
   "source": [
    "print(A*B)"
   ]
  },
  {
   "cell_type": "markdown",
   "id": "5a99b8d2",
   "metadata": {},
   "source": [
    "# 5. Norm A"
   ]
  },
  {
   "cell_type": "code",
   "execution_count": 16,
   "id": "39ab794a",
   "metadata": {},
   "outputs": [
    {
     "name": "stdout",
     "output_type": "stream",
     "text": [
      "33.67491648096547\n"
     ]
    }
   ],
   "source": [
    "print(np.linalg.norm(A))"
   ]
  },
  {
   "cell_type": "markdown",
   "id": "408c8168",
   "metadata": {},
   "source": [
    "# 6. Sudut Antara Vektor A dan B"
   ]
  },
  {
   "cell_type": "markdown",
   "id": "58461204",
   "metadata": {},
   "source": [
    "Normalized Vector of both A and B when dot product will return the theta."
   ]
  },
  {
   "cell_type": "code",
   "execution_count": 24,
   "id": "314b25f6",
   "metadata": {},
   "outputs": [
    {
     "name": "stdout",
     "output_type": "stream",
     "text": [
      "0.21971776576153962 radians\n"
     ]
    }
   ],
   "source": [
    "print(np.arccos((A/np.linalg.norm(A))@((B/np.linalg.norm(B)))),'radians')"
   ]
  },
  {
   "cell_type": "markdown",
   "id": "51491b57",
   "metadata": {},
   "source": [
    "# 7.  Plot dari vector berikut ini kedalam bidang 2D"
   ]
  },
  {
   "cell_type": "markdown",
   "id": "895f0e10",
   "metadata": {},
   "source": [
    "u = 2,5 v=3,1"
   ]
  },
  {
   "cell_type": "code",
   "execution_count": 25,
   "id": "f61ae828",
   "metadata": {},
   "outputs": [],
   "source": [
    "import matplotlib.pyplot as plt"
   ]
  },
  {
   "cell_type": "code",
   "execution_count": 26,
   "id": "408d3d5b",
   "metadata": {},
   "outputs": [],
   "source": [
    "u = np.array([2,5])\n",
    "v = np.array([3,1])\n"
   ]
  },
  {
   "cell_type": "code",
   "execution_count": 41,
   "id": "d4eaf482",
   "metadata": {},
   "outputs": [],
   "source": [
    "uv = np.vstack((u,v))"
   ]
  },
  {
   "cell_type": "code",
   "execution_count": 58,
   "id": "814744e8",
   "metadata": {},
   "outputs": [],
   "source": [
    "x = uv[:,0]\n",
    "y = uv[:,1]"
   ]
  },
  {
   "cell_type": "code",
   "execution_count": 59,
   "id": "ca020a17",
   "metadata": {},
   "outputs": [
    {
     "data": {
      "text/plain": [
       "<matplotlib.collections.PathCollection at 0x288641e5f70>"
      ]
     },
     "execution_count": 59,
     "metadata": {},
     "output_type": "execute_result"
    },
    {
     "data": {
      "image/png": "[encoded data removed]",
      "text/plain": [
       "<Figure size 432x288 with 1 Axes>"
      ]
     },
     "metadata": {
      "needs_background": "light"
     },
     "output_type": "display_data"
    }
   ],
   "source": [
    "plt.scatter(x,y)"
   ]
  }
 ],
 "metadata": {
  "kernelspec": {
   "display_name": "Python 3",
   "language": "python",
   "name": "python3"
  },
  "language_info": {
   "codemirror_mode": {
    "name": "ipython",
    "version": 3
   },
   "file_extension": ".py",
   "mimetype": "text/x-python",
   "name": "python",
   "nbconvert_exporter": "python",
   "pygments_lexer": "ipython3",
   "version": "3.8.5"
  }
 },
 "nbformat": 4,
 "nbformat_minor": 5
}
