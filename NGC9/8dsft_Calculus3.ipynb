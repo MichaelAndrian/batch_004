{
 "cells": [
  {
   "cell_type": "code",
   "execution_count": 3,
   "id": "2223be18",
   "metadata": {},
   "outputs": [],
   "source": [
    "import numpy as np\n",
    "from sympy.tensor.array import derive_by_array\n",
    "import sympy as sy\n"
   ]
  },
  {
   "cell_type": "code",
   "execution_count": 4,
   "id": "a0776e0f",
   "metadata": {},
   "outputs": [],
   "source": [
    "x,y = sy.symbols('x y')"
   ]
  },
  {
   "cell_type": "code",
   "execution_count": 6,
   "id": "a55cbec3",
   "metadata": {},
   "outputs": [],
   "source": [
    "f = 3*x + 4*y -5 "
   ]
  },
  {
   "cell_type": "markdown",
   "id": "0659e233",
   "metadata": {},
   "source": [
    "# Find Gradient From the Function"
   ]
  },
  {
   "cell_type": "code",
   "execution_count": 7,
   "id": "0adc2fde",
   "metadata": {},
   "outputs": [
    {
     "data": {
      "text/latex": [
       "$\\displaystyle \\left[\\begin{matrix}3 & 4\\end{matrix}\\right]$"
      ],
      "text/plain": [
       "[3, 4]"
      ]
     },
     "execution_count": 7,
     "metadata": {},
     "output_type": "execute_result"
    }
   ],
   "source": [
    "derive_by_array(f,(x,y))"
   ]
  }
 ],
 "metadata": {
  "kernelspec": {
   "display_name": "Python 3",
   "language": "python",
   "name": "python3"
  },
  "language_info": {
   "codemirror_mode": {
    "name": "ipython",
    "version": 3
   },
   "file_extension": ".py",
   "mimetype": "text/x-python",
   "name": "python",
   "nbconvert_exporter": "python",
   "pygments_lexer": "ipython3",
   "version": "3.8.5"
  }
 },
 "nbformat": 4,
 "nbformat_minor": 5
}
